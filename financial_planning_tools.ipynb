{
 "cells": [
  {
   "cell_type": "markdown",
   "metadata": {},
   "source": [
    "# Financial Planning with APIs and Simulations\n",
    "\n",
    "In this Challenge, you’ll create two financial analysis tools by using a single Jupyter notebook:\n",
    "\n",
    "Part 1: A financial planner for emergencies. The members will be able to use this tool to visualize their current savings. The members can then determine if they have enough reserves for an emergency fund.\n",
    "\n",
    "Part 2: A financial planner for retirement. This tool will forecast the performance of their retirement portfolio in 30 years. To do this, the tool will make an Alpaca API call via the Alpaca SDK to get historical price data for use in Monte Carlo simulations.\n",
    "\n",
    "You’ll use the information from the Monte Carlo simulation to answer questions about the portfolio in your Jupyter notebook.\n",
    "\n"
   ]
  },
  {
   "cell_type": "code",
   "execution_count": 1,
   "metadata": {},
   "outputs": [],
   "source": [
    "# Import the required libraries and dependencies\n",
    "import os\n",
    "import requests\n",
    "import json\n",
    "import pandas as pd\n",
    "from dotenv import load_dotenv\n",
    "import alpaca_trade_api as tradeapi\n",
    "from MCForecastTools import MCSimulation\n",
    "\n",
    "%matplotlib inline"
   ]
  },
  {
   "cell_type": "code",
   "execution_count": 2,
   "metadata": {},
   "outputs": [
    {
     "data": {
      "text/plain": [
       "True"
      ]
     },
     "execution_count": 2,
     "metadata": {},
     "output_type": "execute_result"
    }
   ],
   "source": [
    "# Load the environment variables from the .env file\n",
    "#by calling the load_dotenv function\n",
    "load_dotenv()"
   ]
  },
  {
   "cell_type": "markdown",
   "metadata": {},
   "source": [
    "## Part 1: Create a Financial Planner for Emergencies"
   ]
  },
  {
   "cell_type": "markdown",
   "metadata": {},
   "source": [
    "### Evaluate the Cryptocurrency Wallet by Using the Requests Library\n",
    "\n",
    "In this section, you’ll determine the current value of a member’s cryptocurrency wallet. You’ll collect the current prices for the Bitcoin and Ethereum cryptocurrencies by using the Python Requests library. For the prototype, you’ll assume that the member holds the 1.2 Bitcoins (BTC) and 5.3 Ethereum coins (ETH). To do all this, complete the following steps:\n",
    "\n",
    "1. Create a variable named `monthly_income`, and set its value to `12000`.\n",
    "\n",
    "2. Use the Requests library to get the current price (in US dollars) of Bitcoin (BTC) and Ethereum (ETH) by using the API endpoints that the starter code supplies.\n",
    "\n",
    "3. Navigate the JSON response object to access the current price of each coin, and store each in a variable.\n",
    "\n",
    "    > **Hint** Note the specific identifier for each cryptocurrency in the API JSON response. The Bitcoin identifier is `1`, and the Ethereum identifier is `1027`.\n",
    "\n",
    "4. Calculate the value, in US dollars, of the current amount of each cryptocurrency and of the entire cryptocurrency wallet.\n",
    "\n"
   ]
  },
  {
   "cell_type": "code",
   "execution_count": 3,
   "metadata": {},
   "outputs": [],
   "source": [
    "# The current number of coins for each cryptocurrency asset held in the portfolio.\n",
    "btc_coins = 1.2\n",
    "eth_coins = 5.3"
   ]
  },
  {
   "cell_type": "markdown",
   "metadata": {},
   "source": [
    "#### Step 1: Create a variable named `monthly_income`, and set its value to `12000`."
   ]
  },
  {
   "cell_type": "code",
   "execution_count": 4,
   "metadata": {},
   "outputs": [],
   "source": [
    "# The monthly amount for the member's household income\n",
    "# YOUR CODE HERE\n",
    "monthly_income = 12000"
   ]
  },
  {
   "cell_type": "markdown",
   "metadata": {},
   "source": [
    "#### Review the endpoint URLs for the API calls to Free Crypto API in order to get the current pricing information for both BTC and ETH."
   ]
  },
  {
   "cell_type": "code",
   "execution_count": 5,
   "metadata": {},
   "outputs": [],
   "source": [
    "# The Free Crypto API Call endpoint URLs for the held cryptocurrency assets\n",
    "btc_url = \"https://api.alternative.me/v2/ticker/Bitcoin/?convert=USD\"\n",
    "eth_url = \"https://api.alternative.me/v2/ticker/Ethereum/?convert=USD\""
   ]
  },
  {
   "cell_type": "markdown",
   "metadata": {},
   "source": [
    "#### Step 2. Use the Requests library to get the current price (in US dollars) of Bitcoin (BTC) and Ethereum (ETH) by using the API endpoints that the starter code supplied."
   ]
  },
  {
   "cell_type": "code",
   "execution_count": 6,
   "metadata": {},
   "outputs": [
    {
     "name": "stdout",
     "output_type": "stream",
     "text": [
      "{\n",
      "   \"data\": {\n",
      "      \"1\": {\n",
      "         \"circulating_supply\": 19254531,\n",
      "         \"id\": 1,\n",
      "         \"last_updated\": 1673048349,\n",
      "         \"max_supply\": 21000000,\n",
      "         \"name\": \"Bitcoin\",\n",
      "         \"quotes\": {\n",
      "            \"USD\": {\n",
      "               \"market_cap\": 326740442498,\n",
      "               \"percent_change_1h\": 0.0352134832019552,\n",
      "               \"percent_change_24h\": 0.768452532530419,\n",
      "               \"percent_change_7d\": 1.88300484943958,\n",
      "               \"percentage_change_1h\": 0.0352134832019552,\n",
      "               \"percentage_change_24h\": 0.768452532530419,\n",
      "               \"percentage_change_7d\": 1.88300484943958,\n",
      "               \"price\": 16957.79,\n",
      "               \"volume_24h\": 18864206059\n",
      "            }\n",
      "         },\n",
      "         \"rank\": 1,\n",
      "         \"symbol\": \"BTC\",\n",
      "         \"total_supply\": 19254531,\n",
      "         \"website_slug\": \"bitcoin\"\n",
      "      }\n",
      "   },\n",
      "   \"metadata\": {\n",
      "      \"error\": null,\n",
      "      \"num_cryptocurrencies\": 3119,\n",
      "      \"timestamp\": 1673048349\n",
      "   }\n",
      "}\n"
     ]
    }
   ],
   "source": [
    "# Using the Python requests library, make an API call to access the current price of BTC\n",
    "btc_response = requests.get(btc_url).json()\n",
    "\n",
    "# Use the json.dumps function to review the response data from the API call\n",
    "# Use the indent and sort_keys parameters to make the response object readable\n",
    "# YOUR CODE HERE\n",
    "print(json.dumps(btc_response, indent = 3, sort_keys = True))"
   ]
  },
  {
   "cell_type": "code",
   "execution_count": 7,
   "metadata": {},
   "outputs": [
    {
     "name": "stdout",
     "output_type": "stream",
     "text": [
      "{\n",
      "   \"data\": {\n",
      "      \"1027\": {\n",
      "         \"circulating_supply\": 120524859,\n",
      "         \"id\": 1027,\n",
      "         \"last_updated\": 1673048356,\n",
      "         \"max_supply\": 120524859,\n",
      "         \"name\": \"Ethereum\",\n",
      "         \"quotes\": {\n",
      "            \"USD\": {\n",
      "               \"market_cap\": 153067546265,\n",
      "               \"percent_change_1h\": 0.144429201528202,\n",
      "               \"percent_change_24h\": 1.55903843440449,\n",
      "               \"percent_change_7d\": 5.64956496408952,\n",
      "               \"percentage_change_1h\": 0.144429201528202,\n",
      "               \"percentage_change_24h\": 1.55903843440449,\n",
      "               \"percentage_change_7d\": 5.64956496408952,\n",
      "               \"price\": 1269.43,\n",
      "               \"volume_24h\": 5210837016\n",
      "            }\n",
      "         },\n",
      "         \"rank\": 2,\n",
      "         \"symbol\": \"ETH\",\n",
      "         \"total_supply\": 120524859,\n",
      "         \"website_slug\": \"ethereum\"\n",
      "      }\n",
      "   },\n",
      "   \"metadata\": {\n",
      "      \"error\": null,\n",
      "      \"num_cryptocurrencies\": 3119,\n",
      "      \"timestamp\": 1673048356\n",
      "   }\n",
      "}\n"
     ]
    }
   ],
   "source": [
    "# Using the Python requests library, make an API call to access the current price ETH\n",
    "eth_response = requests.get(eth_url).json()\n",
    "\n",
    "# Use the json.dumps function to review the response data from the API call\n",
    "# Use the indent and sort_keys parameters to make the response object readable\n",
    "# YOUR CODE HERE\n",
    "print(json.dumps(eth_response, indent = 3, sort_keys=True))"
   ]
  },
  {
   "cell_type": "markdown",
   "metadata": {},
   "source": [
    "#### Step 3: Navigate the JSON response object to access the current price of each coin, and store each in a variable."
   ]
  },
  {
   "cell_type": "code",
   "execution_count": 8,
   "metadata": {},
   "outputs": [
    {
     "name": "stdout",
     "output_type": "stream",
     "text": [
      "16957.79\n"
     ]
    }
   ],
   "source": [
    "# Navigate the BTC response object to access the current price of BTC\n",
    "btc_price = btc_response['data']['1']['quotes']['USD']['price']\n",
    "\n",
    "# Print the current price of BTC\n",
    "# YOUR CODE HERE\n",
    "print(btc_price)"
   ]
  },
  {
   "cell_type": "code",
   "execution_count": 9,
   "metadata": {},
   "outputs": [
    {
     "name": "stdout",
     "output_type": "stream",
     "text": [
      "1269.43\n"
     ]
    }
   ],
   "source": [
    "# Navigate the BTC response object to access the current price of ETH\n",
    "eth_price = eth_response['data']['1027']['quotes']['USD']['price']\n",
    "\n",
    "# Print the current price of ETH\n",
    "# YOUR CODE HERE\n",
    "print(eth_price)"
   ]
  },
  {
   "cell_type": "markdown",
   "metadata": {},
   "source": [
    "### Step 4: Calculate the value, in US dollars, of the current amount of each cryptocurrency and of the entire cryptocurrency wallet."
   ]
  },
  {
   "cell_type": "code",
   "execution_count": 10,
   "metadata": {},
   "outputs": [
    {
     "name": "stdout",
     "output_type": "stream",
     "text": [
      "20349.348\n"
     ]
    }
   ],
   "source": [
    "# Compute the current value of the BTC holding \n",
    "btc_value = btc_coins * btc_price\n",
    "\n",
    "# Print current value of your holding in BTC\n",
    "# YOUR CODE HERE\n",
    "print(btc_value)"
   ]
  },
  {
   "cell_type": "code",
   "execution_count": 11,
   "metadata": {},
   "outputs": [
    {
     "name": "stdout",
     "output_type": "stream",
     "text": [
      "6727.979\n"
     ]
    }
   ],
   "source": [
    "# Compute the current value of the ETH holding \n",
    "eth_value = eth_coins * eth_price\n",
    "\n",
    "# Print current value of your holding in ETH\n",
    "# YOUR CODE HERE\n",
    "print(eth_value)"
   ]
  },
  {
   "cell_type": "code",
   "execution_count": 12,
   "metadata": {},
   "outputs": [
    {
     "name": "stdout",
     "output_type": "stream",
     "text": [
      "The total value of cryptocurrency in the portfolio is $27077.33\n"
     ]
    }
   ],
   "source": [
    "# Compute the total value of the cryptocurrency wallet\n",
    "# Add the value of the BTC holding to the value of the ETH holding\n",
    "total_crypto_wallet = eth_value + btc_value\n",
    "\n",
    "# Print current cryptocurrency wallet balance\n",
    "# YOUR CODE HERE\n",
    "print(f'The total value of cryptocurrency in the portfolio is ${total_crypto_wallet:.2f}')"
   ]
  },
  {
   "cell_type": "markdown",
   "metadata": {},
   "source": [
    "### Evaluate the Stock and Bond Holdings by Using the Alpaca SDK\n",
    "\n",
    "In this section, you’ll determine the current value of a member’s stock and bond holdings. You’ll make an API call to Alpaca via the Alpaca SDK to get the current closing prices of the SPDR S&P 500 ETF Trust (ticker: SPY) and of the iShares Core US Aggregate Bond ETF (ticker: AGG). For the prototype, assume that the member holds 110 shares of SPY, which represents the stock portion of their portfolio, and 200 shares of AGG, which represents the bond portion. To do all this, complete the following steps:\n",
    "\n",
    "1. In the `Starter_Code` folder, create an environment file (`.env`) to store the values of your Alpaca API key and Alpaca secret key.\n",
    "\n",
    "2. Set the variables for the Alpaca API and secret keys. Using the Alpaca SDK, create the Alpaca `tradeapi.REST` object. In this object, include the parameters for the Alpaca API key, the secret key, and the version number.\n",
    "\n",
    "3. Set the following parameters for the Alpaca API call:\n",
    "\n",
    "    - `tickers`: Use the tickers for the member’s stock and bond holdings.\n",
    "\n",
    "    - `timeframe`: Use a time frame of one day.\n",
    "\n",
    "    - `start_date` and `end_date`: Use the same date for these parameters, and format them with the date of the previous weekday (or `2020-08-07`). This is because you want the one closing price for the most-recent trading day.\n",
    "\n",
    "4. Get the current closing prices for `SPY` and `AGG` by using the Alpaca `get_bars` function. Format the response as a Pandas DataFrame by including the `df` property at the end of the `get_bars` function.\n",
    "\n",
    "5. Navigating the Alpaca response DataFrame, select the `SPY` and `AGG` closing prices, and store them as variables.\n",
    "\n",
    "6. Calculate the value, in US dollars, of the current amount of shares in each of the stock and bond portions of the portfolio, and print the results.\n"
   ]
  },
  {
   "cell_type": "markdown",
   "metadata": {},
   "source": [
    "#### Review the total number of shares held in both (SPY) and (AGG)."
   ]
  },
  {
   "cell_type": "code",
   "execution_count": 13,
   "metadata": {},
   "outputs": [],
   "source": [
    "# Current amount of shares held in both the stock (SPY) and bond (AGG) portion of the portfolio.\n",
    "spy_shares = 110\n",
    "agg_shares = 200\n"
   ]
  },
  {
   "cell_type": "markdown",
   "metadata": {},
   "source": [
    "#### Step 1: In the `Starter_Code` folder, create an environment file (`.env`) to store the values of your Alpaca API key and Alpaca secret key."
   ]
  },
  {
   "cell_type": "markdown",
   "metadata": {},
   "source": [
    "#### Step 2: Set the variables for the Alpaca API and secret keys. Using the Alpaca SDK, create the Alpaca `tradeapi.REST` object. In this object, include the parameters for the Alpaca API key, the secret key, and the version number."
   ]
  },
  {
   "cell_type": "code",
   "execution_count": 14,
   "metadata": {},
   "outputs": [],
   "source": [
    "# Set the variables for the Alpaca API and secret keys\n",
    "alpaca_api_key = os.getenv('ALPACA_API_KEY')\n",
    "alpaca_secret_key = os.getenv('ALPACA_SECRET_KEY')\n",
    "\n",
    "# Create the Alpaca tradeapi.REST object\n",
    "# YOUR CODE HERE\n",
    "alpaca = tradeapi.REST(alpaca_api_key, alpaca_secret_key, api_version= 'v2')"
   ]
  },
  {
   "cell_type": "markdown",
   "metadata": {},
   "source": [
    "#### Step 3: Set the following parameters for the Alpaca API call:\n",
    "\n",
    "- `tickers`: Use the tickers for the member’s stock and bond holdings.\n",
    "\n",
    "- `timeframe`: Use a time frame of one day.\n",
    "\n",
    "- `start_date` and `end_date`: Use the same date for these parameters, and format them with the date of the previous weekday (or `2020-08-07`). This is because you want the one closing price for the most-recent trading day.\n"
   ]
  },
  {
   "cell_type": "code",
   "execution_count": 15,
   "metadata": {},
   "outputs": [],
   "source": [
    "# Set the tickers for both the bond and stock portion of the portfolio\n",
    "tickers = ['SPY', 'AGG']\n",
    "\n",
    "# Set timeframe to 1Day\n",
    "timeframe = '1Day'\n",
    "\n",
    "# Format current date as ISO format\n",
    "# Set both the start and end date at the date of your prior weekday \n",
    "# This will give you the closing price of the previous trading day\n",
    "# Alternatively you can use a start and end date of 2020-08-07\n",
    "start_date = pd.Timestamp('2023-01-04', tz = 'America/New_York').isoformat()\n",
    "end_date = pd.Timestamp('2023-01-04', tz = 'America/New_York').isoformat()\n"
   ]
  },
  {
   "cell_type": "markdown",
   "metadata": {},
   "source": [
    "#### Step 4: Get the current closing prices for `SPY` and `AGG` by using the Alpaca `get_bars` function. Format the response as a Pandas DataFrame by including the `df` property at the end of the `get_bars` function."
   ]
  },
  {
   "cell_type": "code",
   "execution_count": 16,
   "metadata": {},
   "outputs": [
    {
     "data": {
      "text/html": [
       "<div>\n",
       "<style scoped>\n",
       "    .dataframe tbody tr th:only-of-type {\n",
       "        vertical-align: middle;\n",
       "    }\n",
       "\n",
       "    .dataframe tbody tr th {\n",
       "        vertical-align: top;\n",
       "    }\n",
       "\n",
       "    .dataframe thead tr th {\n",
       "        text-align: left;\n",
       "    }\n",
       "\n",
       "    .dataframe thead tr:last-of-type th {\n",
       "        text-align: right;\n",
       "    }\n",
       "</style>\n",
       "<table border=\"1\" class=\"dataframe\">\n",
       "  <thead>\n",
       "    <tr>\n",
       "      <th></th>\n",
       "      <th colspan=\"7\" halign=\"left\">SPY</th>\n",
       "      <th colspan=\"7\" halign=\"left\">AGG</th>\n",
       "    </tr>\n",
       "    <tr>\n",
       "      <th></th>\n",
       "      <th>open</th>\n",
       "      <th>high</th>\n",
       "      <th>low</th>\n",
       "      <th>close</th>\n",
       "      <th>volume</th>\n",
       "      <th>trade_count</th>\n",
       "      <th>vwap</th>\n",
       "      <th>open</th>\n",
       "      <th>high</th>\n",
       "      <th>low</th>\n",
       "      <th>close</th>\n",
       "      <th>volume</th>\n",
       "      <th>trade_count</th>\n",
       "      <th>vwap</th>\n",
       "    </tr>\n",
       "    <tr>\n",
       "      <th>timestamp</th>\n",
       "      <th></th>\n",
       "      <th></th>\n",
       "      <th></th>\n",
       "      <th></th>\n",
       "      <th></th>\n",
       "      <th></th>\n",
       "      <th></th>\n",
       "      <th></th>\n",
       "      <th></th>\n",
       "      <th></th>\n",
       "      <th></th>\n",
       "      <th></th>\n",
       "      <th></th>\n",
       "      <th></th>\n",
       "    </tr>\n",
       "  </thead>\n",
       "  <tbody>\n",
       "    <tr>\n",
       "      <th>2023-01-04 05:00:00+00:00</th>\n",
       "      <td>383.18</td>\n",
       "      <td>385.88</td>\n",
       "      <td>380.0</td>\n",
       "      <td>383.76</td>\n",
       "      <td>85425119</td>\n",
       "      <td>628498</td>\n",
       "      <td>383.151245</td>\n",
       "      <td>98.17</td>\n",
       "      <td>98.25</td>\n",
       "      <td>97.89</td>\n",
       "      <td>98.1</td>\n",
       "      <td>9792320</td>\n",
       "      <td>28896</td>\n",
       "      <td>98.032508</td>\n",
       "    </tr>\n",
       "  </tbody>\n",
       "</table>\n",
       "</div>"
      ],
      "text/plain": [
       "                              SPY                                   \\\n",
       "                             open    high    low   close    volume   \n",
       "timestamp                                                            \n",
       "2023-01-04 05:00:00+00:00  383.18  385.88  380.0  383.76  85425119   \n",
       "\n",
       "                                                     AGG                      \\\n",
       "                          trade_count        vwap   open   high    low close   \n",
       "timestamp                                                                      \n",
       "2023-01-04 05:00:00+00:00      628498  383.151245  98.17  98.25  97.89  98.1   \n",
       "\n",
       "                                                           \n",
       "                            volume trade_count       vwap  \n",
       "timestamp                                                  \n",
       "2023-01-04 05:00:00+00:00  9792320       28896  98.032508  "
      ]
     },
     "metadata": {},
     "output_type": "display_data"
    }
   ],
   "source": [
    "# Use the Alpaca get_bars function to get current closing prices the portfolio\n",
    "# Be sure to set the `df` property after the function to format the response object as a DataFrame\n",
    "alpaca_response = alpaca.get_bars(tickers, timeframe, start = start_date, end = end_date).df\n",
    "\n",
    "# Reorganize the DataFrame\n",
    "# Separate ticker data\n",
    "spy = alpaca_response[alpaca_response['symbol']=='SPY'].drop('symbol', axis = 1)\n",
    "agg = alpaca_response[alpaca_response['symbol']=='AGG'].drop('symbol', axis = 1)\n",
    "\n",
    "\n",
    "# Concatenate the ticker DataFrames\n",
    "prices_df = pd.concat([spy, agg], axis = 1, keys = tickers)\n",
    "\n",
    "# Review the first 5 rows of the Alpaca DataFrame\n",
    "display(prices_df)\n"
   ]
  },
  {
   "cell_type": "markdown",
   "metadata": {},
   "source": [
    "#### Step 5: Navigating the Alpaca response DataFrame, select the `SPY` and `AGG` closing prices, and store them as variables."
   ]
  },
  {
   "cell_type": "code",
   "execution_count": 17,
   "metadata": {},
   "outputs": [
    {
     "name": "stdout",
     "output_type": "stream",
     "text": [
      "98.1\n"
     ]
    }
   ],
   "source": [
    "# Access the closing price for AGG from the Alpaca DataFrame\n",
    "# Converting the value to a floating point number\n",
    "agg_close_price = float(prices_df['AGG']['close'])\n",
    "\n",
    "\n",
    "# Print the AGG closing price\n",
    "print(agg_close_price)"
   ]
  },
  {
   "cell_type": "code",
   "execution_count": 18,
   "metadata": {},
   "outputs": [
    {
     "name": "stdout",
     "output_type": "stream",
     "text": [
      "383.76\n"
     ]
    }
   ],
   "source": [
    "# Access the closing price for SPY from the Alpaca DataFrame\n",
    "# Converting the value to a floating point number\n",
    "spy_close_price = float(prices_df['SPY']['close'])\n",
    "\n",
    "# Print the SPY closing price\n",
    "print(spy_close_price)"
   ]
  },
  {
   "cell_type": "markdown",
   "metadata": {},
   "source": [
    "#### Step 6: Calculate the value, in US dollars, of the current amount of shares in each of the stock and bond portions of the portfolio, and print the results."
   ]
  },
  {
   "cell_type": "code",
   "execution_count": 19,
   "metadata": {},
   "outputs": [
    {
     "name": "stdout",
     "output_type": "stream",
     "text": [
      "19620.0\n"
     ]
    }
   ],
   "source": [
    "# Calculate the current value of the bond portion of the portfolio\n",
    "agg_value = agg_close_price * agg_shares\n",
    "\n",
    "# Print the current value of the bond portfolio\n",
    "print(agg_value)\n"
   ]
  },
  {
   "cell_type": "code",
   "execution_count": 20,
   "metadata": {},
   "outputs": [
    {
     "name": "stdout",
     "output_type": "stream",
     "text": [
      "42213.6\n"
     ]
    }
   ],
   "source": [
    "# Calculate the current value of the stock portion of the portfolio\n",
    "spy_value = spy_close_price * spy_shares\n",
    "\n",
    "# Print the current value of the stock portfolio\n",
    "# YOUR CODE HERE\n",
    "print(spy_value)"
   ]
  },
  {
   "cell_type": "code",
   "execution_count": 21,
   "metadata": {},
   "outputs": [
    {
     "name": "stdout",
     "output_type": "stream",
     "text": [
      "The total value of stocks and bonds in the portfolio is $61833.6\n"
     ]
    }
   ],
   "source": [
    "# Calculate the total value of the stock and bond portion of the portfolio\n",
    "total_stocks_bonds = spy_value + agg_value\n",
    "\n",
    "# Print the current balance of the stock and bond portion of the portfolio\n",
    "# YOUR CODE HERE\n",
    "print(f'The total value of stocks and bonds in the portfolio is ${total_stocks_bonds}')"
   ]
  },
  {
   "cell_type": "code",
   "execution_count": 22,
   "metadata": {},
   "outputs": [
    {
     "name": "stdout",
     "output_type": "stream",
     "text": [
      "The total value of the portfolio is $88910.93\n"
     ]
    }
   ],
   "source": [
    "# Calculate the total value of the member's entire savings portfolio\n",
    "# Add the value of the cryptocurrency walled to the value of the total stocks and bonds\n",
    "total_portfolio = total_stocks_bonds + total_crypto_wallet\n",
    "\n",
    "# Print total portfolio balance\n",
    "print(f'The total value of the portfolio is ${total_portfolio:.2f}')\n",
    "\n"
   ]
  },
  {
   "cell_type": "markdown",
   "metadata": {},
   "source": [
    "### Evaluate the Emergency Fund\n",
    "\n",
    "In this section, you’ll use the valuations for the cryptocurrency wallet and for the stock and bond portions of the portfolio to determine if the credit union member has enough savings to build an emergency fund into their financial plan. To do this, complete the following steps:\n",
    "\n",
    "1. Create a Python list named `savings_data` that has two elements. The first element contains the total value of the cryptocurrency wallet. The second element contains the total value of the stock and bond portions of the portfolio.\n",
    "\n",
    "2. Use the `savings_data` list to create a Pandas DataFrame named `savings_df`, and then display this DataFrame. The function to create the DataFrame should take the following three parameters:\n",
    "\n",
    "    - `savings_data`: Use the list that you just created.\n",
    "\n",
    "    - `columns`: Set this parameter equal to a Python list with a single value called `amount`.\n",
    "\n",
    "    - `index`: Set this parameter equal to a Python list with the values of `crypto` and `stock/bond`.\n",
    "\n",
    "3. Use the `savings_df` DataFrame to plot a pie chart that visualizes the composition of the member’s portfolio. The y-axis of the pie chart uses `amount`. Be sure to add a title.\n",
    "\n",
    "4. Using Python, determine if the current portfolio has enough to create an emergency fund as part of the member’s financial plan. Ideally, an emergency fund should equal to three times the member’s monthly income. To do this, implement the following steps:\n",
    "\n",
    "    1. Create a variable named `emergency_fund_value`, and set it equal to three times the value of the member’s `monthly_income` of $12000. (You set this earlier in Part 1).\n",
    "\n",
    "    2. Create a series of three if statements to determine if the member’s total portfolio is large enough to fund the emergency portfolio:\n",
    "\n",
    "        1. If the total portfolio value is greater than the emergency fund value, display a message congratulating the member for having enough money in this fund.\n",
    "\n",
    "        2. Else if the total portfolio value is equal to the emergency fund value, display a message congratulating the member on reaching this important financial goal.\n",
    "\n",
    "        3. Else the total portfolio is less than the emergency fund value, so display a message showing how many dollars away the member is from reaching the goal. (Subtract the total portfolio value from the emergency fund value.)\n"
   ]
  },
  {
   "cell_type": "markdown",
   "metadata": {},
   "source": [
    "#### Step 1: Create a Python list named `savings_data` that has two elements. The first element contains the total value of the cryptocurrency wallet. The second element contains the total value of the stock and bond portions of the portfolio."
   ]
  },
  {
   "cell_type": "code",
   "execution_count": 37,
   "metadata": {},
   "outputs": [
    {
     "name": "stdout",
     "output_type": "stream",
     "text": [
      "[27077.327, 61833.6]\n"
     ]
    }
   ],
   "source": [
    "# Consolidate financial assets data into a Python list\n",
    "savings_data = [total_crypto_wallet, total_stocks_bonds]\n",
    "# Review the Python list savings_data\n",
    "print(savings_data)"
   ]
  },
  {
   "cell_type": "markdown",
   "metadata": {},
   "source": [
    "#### Step 2: Use the `savings_data` list to create a Pandas DataFrame named `savings_df`, and then display this DataFrame. The function to create the DataFrame should take the following three parameters:\n",
    "\n",
    "- `savings_data`: Use the list that you just created.\n",
    "\n",
    "- `columns`: Set this parameter equal to a Python list with a single value called `amount`.\n",
    "\n",
    "- `index`: Set this parameter equal to a Python list with the values of `crypto` and `stock/bond`.\n"
   ]
  },
  {
   "cell_type": "code",
   "execution_count": 38,
   "metadata": {},
   "outputs": [
    {
     "data": {
      "text/html": [
       "<div>\n",
       "<style scoped>\n",
       "    .dataframe tbody tr th:only-of-type {\n",
       "        vertical-align: middle;\n",
       "    }\n",
       "\n",
       "    .dataframe tbody tr th {\n",
       "        vertical-align: top;\n",
       "    }\n",
       "\n",
       "    .dataframe thead th {\n",
       "        text-align: right;\n",
       "    }\n",
       "</style>\n",
       "<table border=\"1\" class=\"dataframe\">\n",
       "  <thead>\n",
       "    <tr style=\"text-align: right;\">\n",
       "      <th></th>\n",
       "      <th>amount</th>\n",
       "    </tr>\n",
       "  </thead>\n",
       "  <tbody>\n",
       "    <tr>\n",
       "      <th>crypto</th>\n",
       "      <td>27077.327</td>\n",
       "    </tr>\n",
       "    <tr>\n",
       "      <th>stock/bond</th>\n",
       "      <td>61833.600</td>\n",
       "    </tr>\n",
       "  </tbody>\n",
       "</table>\n",
       "</div>"
      ],
      "text/plain": [
       "               amount\n",
       "crypto      27077.327\n",
       "stock/bond  61833.600"
      ]
     },
     "metadata": {},
     "output_type": "display_data"
    }
   ],
   "source": [
    "# Create a Pandas DataFrame called savings_df \n",
    "savings_df = pd.DataFrame(savings_data, columns = ['amount'], index = ['crypto', 'stock/bond'])\n",
    "# Display the savings_df DataFrame\n",
    "display(savings_df)\n"
   ]
  },
  {
   "cell_type": "markdown",
   "metadata": {},
   "source": [
    "#### Step 3: Use the `savings_df` DataFrame to plot a pie chart that visualizes the composition of the member’s portfolio. The y-axis of the pie chart uses `amount`. Be sure to add a title."
   ]
  },
  {
   "cell_type": "code",
   "execution_count": 41,
   "metadata": {},
   "outputs": [
    {
     "data": {
      "text/plain": [
       "<AxesSubplot:title={'center':'Portfolio Composition'}, ylabel='amount'>"
      ]
     },
     "execution_count": 41,
     "metadata": {},
     "output_type": "execute_result"
    },
    {
     "data": {
      "image/png": "[encoded data removed]",
      "text/plain": [
       "<Figure size 640x480 with 1 Axes>"
      ]
     },
     "metadata": {},
     "output_type": "display_data"
    }
   ],
   "source": [
    "# Plot the total value of the member's portfolio (crypto and stock/bond) in a pie chart\n",
    "savings_df.plot.pie(y = 'amount', title = 'Portfolio Composition')\n"
   ]
  },
  {
   "cell_type": "markdown",
   "metadata": {},
   "source": [
    "#### Step 4: Using Python, determine if the current portfolio has enough to create an emergency fund as part of the member’s financial plan. Ideally, an emergency fund should equal to three times the member’s monthly income. To do this, implement the following steps:\n",
    "\n",
    "Step 1. Create a variable named `emergency_fund_value`, and set it equal to three times the value of the member’s `monthly_income` of 12000. (You set this earlier in Part 1).\n",
    "\n",
    "Step 2. Create a series of three if statements to determine if the member’s total portfolio is large enough to fund the emergency portfolio:\n",
    "\n",
    "* If the total portfolio value is greater than the emergency fund value, display a message congratulating the member for having enough money in this fund.\n",
    "\n",
    "* Else if the total portfolio value is equal to the emergency fund value, display a message congratulating the member on reaching this important financial goal.\n",
    "\n",
    "* Else the total portfolio is less than the emergency fund value, so display a message showing how many dollars away the member is from reaching the goal. (Subtract the total portfolio value from the emergency fund value.)\n"
   ]
  },
  {
   "cell_type": "markdown",
   "metadata": {},
   "source": [
    "##### Step 4-1: Create a variable named `emergency_fund_value`, and set it equal to three times the value of the member’s `monthly_income` of 12000. (You set this earlier in Part 1)."
   ]
  },
  {
   "cell_type": "code",
   "execution_count": 42,
   "metadata": {},
   "outputs": [],
   "source": [
    "# Create a variable named emergency_fund_value\n",
    "emergency_fund_value = monthly_income * 3\n"
   ]
  },
  {
   "cell_type": "markdown",
   "metadata": {},
   "source": [
    "##### Step 4-2: Create a series of three if statements to determine if the member’s total portfolio is large enough to fund the emergency portfolio:\n",
    "\n",
    "* If the total portfolio value is greater than the emergency fund value, display a message congratulating the member for having enough money in this fund.\n",
    "\n",
    "* Else if the total portfolio value is equal to the emergency fund value, display a message congratulating the member on reaching this important financial goal.\n",
    "\n",
    "* Else the total portfolio is less than the emergency fund value, so display a message showing how many dollars away the member is from reaching the goal. (Subtract the total portfolio value from the emergency fund value.)"
   ]
  },
  {
   "cell_type": "code",
   "execution_count": 44,
   "metadata": {},
   "outputs": [
    {
     "name": "stdout",
     "output_type": "stream",
     "text": [
      "Congratulations!\n",
      "You have enough money to create an emergency fund.\n"
     ]
    }
   ],
   "source": [
    "# Evaluate the possibility of creating an emergency fund with 3 conditions:\n",
    "if total_portfolio > emergency_fund_value:\n",
    "    print('Congratulations!\\nYou have enough money to create an emergency fund.')\n",
    "elif total_portfolio == emergency_fund_value:\n",
    "    print('Congratulations on saving enough money to set money aside for an emergency')\n",
    "else:\n",
    "    print(f'You are ${emergency_fund_value - total_portfolio} away from having the funds to start an emergency fund')\n"
   ]
  },
  {
   "cell_type": "markdown",
   "metadata": {},
   "source": [
    "## Part 2: Create a Financial Planner for Retirement"
   ]
  },
  {
   "cell_type": "markdown",
   "metadata": {},
   "source": [
    "### Create the Monte Carlo Simulation\n",
    "\n",
    "In this section, you’ll use the MCForecastTools library to create a Monte Carlo simulation for the member’s savings portfolio. To do this, complete the following steps:\n",
    "\n",
    "1. Make an API call via the Alpaca SDK to get 3 years of historical closing prices for a traditional 60/40 portfolio split: 60% stocks (SPY) and 40% bonds (AGG).\n",
    "\n",
    "2. Run a Monte Carlo simulation of 500 samples and 30 years for the 60/40 portfolio, and then plot the results.The following image shows the overlay line plot resulting from a simulation with these characteristics. However, because a random number generator is used to run each live Monte Carlo simulation, your image will differ slightly from this exact image:\n",
    "\n",
    "![A screenshot depicts the resulting plot.](Images/5-4-monte-carlo-line-plot.png)\n",
    "\n",
    "3. Plot the probability distribution of the Monte Carlo simulation. Plot the probability distribution of the Monte Carlo simulation. The following image shows the histogram plot resulting from a simulation with these characteristics. However, because a random number generator is used to run each live Monte Carlo simulation, your image will differ slightly from this exact image:\n",
    "\n",
    "![A screenshot depicts the histogram plot.](Images/5-4-monte-carlo-histogram.png)\n",
    "\n",
    "4. Generate the summary statistics for the Monte Carlo simulation.\n",
    "\n"
   ]
  },
  {
   "cell_type": "markdown",
   "metadata": {},
   "source": [
    "#### Step 1: Make an API call via the Alpaca SDK to get 3 years of historical closing prices for a traditional 60/40 portfolio split: 60% stocks (SPY) and 40% bonds (AGG)."
   ]
  },
  {
   "cell_type": "code",
   "execution_count": 45,
   "metadata": {},
   "outputs": [],
   "source": [
    "# Set start and end dates of 3 years back from your current date\n",
    "# Alternatively, you can use an end date of 2020-08-07 and work 3 years back from that date \n",
    "start_date = pd.Timestamp('2020-01-06', tz = 'America/New_York').isoformat()\n",
    "end_date = pd.Timestamp('2023-01-06', tz = 'America/New_York').isoformat()"
   ]
  },
  {
   "cell_type": "code",
   "execution_count": 54,
   "metadata": {},
   "outputs": [
    {
     "data": {
      "text/html": [
       "<div>\n",
       "<style scoped>\n",
       "    .dataframe tbody tr th:only-of-type {\n",
       "        vertical-align: middle;\n",
       "    }\n",
       "\n",
       "    .dataframe tbody tr th {\n",
       "        vertical-align: top;\n",
       "    }\n",
       "\n",
       "    .dataframe thead tr th {\n",
       "        text-align: left;\n",
       "    }\n",
       "</style>\n",
       "<table border=\"1\" class=\"dataframe\">\n",
       "  <thead>\n",
       "    <tr>\n",
       "      <th></th>\n",
       "      <th colspan=\"7\" halign=\"left\">SPY</th>\n",
       "      <th colspan=\"7\" halign=\"left\">AGG</th>\n",
       "    </tr>\n",
       "    <tr>\n",
       "      <th></th>\n",
       "      <th>open</th>\n",
       "      <th>high</th>\n",
       "      <th>low</th>\n",
       "      <th>close</th>\n",
       "      <th>volume</th>\n",
       "      <th>trade_count</th>\n",
       "      <th>vwap</th>\n",
       "      <th>open</th>\n",
       "      <th>high</th>\n",
       "      <th>low</th>\n",
       "      <th>close</th>\n",
       "      <th>volume</th>\n",
       "      <th>trade_count</th>\n",
       "      <th>vwap</th>\n",
       "    </tr>\n",
       "  </thead>\n",
       "  <tbody>\n",
       "    <tr>\n",
       "      <th>2020-01-06</th>\n",
       "      <td>320.4900</td>\n",
       "      <td>323.73</td>\n",
       "      <td>320.36</td>\n",
       "      <td>323.73</td>\n",
       "      <td>55817168</td>\n",
       "      <td>255767</td>\n",
       "      <td>322.722391</td>\n",
       "      <td>113.13</td>\n",
       "      <td>113.13</td>\n",
       "      <td>112.840</td>\n",
       "      <td>112.92</td>\n",
       "      <td>8131608</td>\n",
       "      <td>17277</td>\n",
       "      <td>112.949600</td>\n",
       "    </tr>\n",
       "    <tr>\n",
       "      <th>2020-01-07</th>\n",
       "      <td>323.0200</td>\n",
       "      <td>323.54</td>\n",
       "      <td>322.24</td>\n",
       "      <td>322.74</td>\n",
       "      <td>42874811</td>\n",
       "      <td>226059</td>\n",
       "      <td>322.711069</td>\n",
       "      <td>112.92</td>\n",
       "      <td>112.92</td>\n",
       "      <td>112.780</td>\n",
       "      <td>112.80</td>\n",
       "      <td>2883005</td>\n",
       "      <td>11523</td>\n",
       "      <td>112.834953</td>\n",
       "    </tr>\n",
       "    <tr>\n",
       "      <th>2020-01-08</th>\n",
       "      <td>322.9400</td>\n",
       "      <td>325.78</td>\n",
       "      <td>322.67</td>\n",
       "      <td>324.42</td>\n",
       "      <td>68435753</td>\n",
       "      <td>340004</td>\n",
       "      <td>324.331733</td>\n",
       "      <td>112.85</td>\n",
       "      <td>112.94</td>\n",
       "      <td>112.545</td>\n",
       "      <td>112.67</td>\n",
       "      <td>7323117</td>\n",
       "      <td>12854</td>\n",
       "      <td>112.671650</td>\n",
       "    </tr>\n",
       "    <tr>\n",
       "      <th>2020-01-09</th>\n",
       "      <td>326.1600</td>\n",
       "      <td>326.73</td>\n",
       "      <td>325.52</td>\n",
       "      <td>326.59</td>\n",
       "      <td>48582601</td>\n",
       "      <td>242161</td>\n",
       "      <td>326.093557</td>\n",
       "      <td>112.49</td>\n",
       "      <td>112.79</td>\n",
       "      <td>112.460</td>\n",
       "      <td>112.79</td>\n",
       "      <td>9110852</td>\n",
       "      <td>13407</td>\n",
       "      <td>112.730232</td>\n",
       "    </tr>\n",
       "    <tr>\n",
       "      <th>2020-01-10</th>\n",
       "      <td>327.2899</td>\n",
       "      <td>327.46</td>\n",
       "      <td>325.20</td>\n",
       "      <td>325.64</td>\n",
       "      <td>53057389</td>\n",
       "      <td>236220</td>\n",
       "      <td>326.407649</td>\n",
       "      <td>112.90</td>\n",
       "      <td>112.99</td>\n",
       "      <td>112.820</td>\n",
       "      <td>112.98</td>\n",
       "      <td>4198053</td>\n",
       "      <td>11555</td>\n",
       "      <td>112.924604</td>\n",
       "    </tr>\n",
       "  </tbody>\n",
       "</table>\n",
       "</div>"
      ],
      "text/plain": [
       "                 SPY                                                \\\n",
       "                open    high     low   close    volume trade_count   \n",
       "2020-01-06  320.4900  323.73  320.36  323.73  55817168      255767   \n",
       "2020-01-07  323.0200  323.54  322.24  322.74  42874811      226059   \n",
       "2020-01-08  322.9400  325.78  322.67  324.42  68435753      340004   \n",
       "2020-01-09  326.1600  326.73  325.52  326.59  48582601      242161   \n",
       "2020-01-10  327.2899  327.46  325.20  325.64  53057389      236220   \n",
       "\n",
       "                           AGG                                                \\\n",
       "                  vwap    open    high      low   close   volume trade_count   \n",
       "2020-01-06  322.722391  113.13  113.13  112.840  112.92  8131608       17277   \n",
       "2020-01-07  322.711069  112.92  112.92  112.780  112.80  2883005       11523   \n",
       "2020-01-08  324.331733  112.85  112.94  112.545  112.67  7323117       12854   \n",
       "2020-01-09  326.093557  112.49  112.79  112.460  112.79  9110852       13407   \n",
       "2020-01-10  326.407649  112.90  112.99  112.820  112.98  4198053       11555   \n",
       "\n",
       "                        \n",
       "                  vwap  \n",
       "2020-01-06  112.949600  \n",
       "2020-01-07  112.834953  \n",
       "2020-01-08  112.671650  \n",
       "2020-01-09  112.730232  \n",
       "2020-01-10  112.924604  "
      ]
     },
     "metadata": {},
     "output_type": "display_data"
    },
    {
     "data": {
      "text/html": [
       "<div>\n",
       "<style scoped>\n",
       "    .dataframe tbody tr th:only-of-type {\n",
       "        vertical-align: middle;\n",
       "    }\n",
       "\n",
       "    .dataframe tbody tr th {\n",
       "        vertical-align: top;\n",
       "    }\n",
       "\n",
       "    .dataframe thead tr th {\n",
       "        text-align: left;\n",
       "    }\n",
       "</style>\n",
       "<table border=\"1\" class=\"dataframe\">\n",
       "  <thead>\n",
       "    <tr>\n",
       "      <th></th>\n",
       "      <th colspan=\"7\" halign=\"left\">SPY</th>\n",
       "      <th colspan=\"7\" halign=\"left\">AGG</th>\n",
       "    </tr>\n",
       "    <tr>\n",
       "      <th></th>\n",
       "      <th>open</th>\n",
       "      <th>high</th>\n",
       "      <th>low</th>\n",
       "      <th>close</th>\n",
       "      <th>volume</th>\n",
       "      <th>trade_count</th>\n",
       "      <th>vwap</th>\n",
       "      <th>open</th>\n",
       "      <th>high</th>\n",
       "      <th>low</th>\n",
       "      <th>close</th>\n",
       "      <th>volume</th>\n",
       "      <th>trade_count</th>\n",
       "      <th>vwap</th>\n",
       "    </tr>\n",
       "  </thead>\n",
       "  <tbody>\n",
       "    <tr>\n",
       "      <th>2022-12-30</th>\n",
       "      <td>380.64</td>\n",
       "      <td>382.58</td>\n",
       "      <td>378.4300</td>\n",
       "      <td>382.43</td>\n",
       "      <td>83474793</td>\n",
       "      <td>544591</td>\n",
       "      <td>381.220108</td>\n",
       "      <td>97.25</td>\n",
       "      <td>97.36</td>\n",
       "      <td>96.9741</td>\n",
       "      <td>96.99</td>\n",
       "      <td>8460107</td>\n",
       "      <td>29791</td>\n",
       "      <td>97.066805</td>\n",
       "    </tr>\n",
       "    <tr>\n",
       "      <th>2023-01-03</th>\n",
       "      <td>384.37</td>\n",
       "      <td>386.43</td>\n",
       "      <td>377.8310</td>\n",
       "      <td>380.82</td>\n",
       "      <td>74330774</td>\n",
       "      <td>585048</td>\n",
       "      <td>380.961150</td>\n",
       "      <td>97.97</td>\n",
       "      <td>97.97</td>\n",
       "      <td>97.3650</td>\n",
       "      <td>97.56</td>\n",
       "      <td>19923745</td>\n",
       "      <td>50478</td>\n",
       "      <td>97.592200</td>\n",
       "    </tr>\n",
       "    <tr>\n",
       "      <th>2023-01-04</th>\n",
       "      <td>383.18</td>\n",
       "      <td>385.88</td>\n",
       "      <td>380.0000</td>\n",
       "      <td>383.76</td>\n",
       "      <td>85425119</td>\n",
       "      <td>628498</td>\n",
       "      <td>383.151245</td>\n",
       "      <td>98.17</td>\n",
       "      <td>98.25</td>\n",
       "      <td>97.8900</td>\n",
       "      <td>98.10</td>\n",
       "      <td>9792320</td>\n",
       "      <td>28896</td>\n",
       "      <td>98.032508</td>\n",
       "    </tr>\n",
       "    <tr>\n",
       "      <th>2023-01-05</th>\n",
       "      <td>381.72</td>\n",
       "      <td>381.76</td>\n",
       "      <td>378.7600</td>\n",
       "      <td>379.38</td>\n",
       "      <td>76079710</td>\n",
       "      <td>523811</td>\n",
       "      <td>380.264217</td>\n",
       "      <td>97.64</td>\n",
       "      <td>98.06</td>\n",
       "      <td>97.5650</td>\n",
       "      <td>98.02</td>\n",
       "      <td>9675668</td>\n",
       "      <td>25578</td>\n",
       "      <td>97.882382</td>\n",
       "    </tr>\n",
       "    <tr>\n",
       "      <th>2023-01-06</th>\n",
       "      <td>382.61</td>\n",
       "      <td>389.25</td>\n",
       "      <td>379.4127</td>\n",
       "      <td>388.08</td>\n",
       "      <td>103732642</td>\n",
       "      <td>683384</td>\n",
       "      <td>385.248022</td>\n",
       "      <td>98.13</td>\n",
       "      <td>99.15</td>\n",
       "      <td>98.0400</td>\n",
       "      <td>99.09</td>\n",
       "      <td>8484627</td>\n",
       "      <td>28129</td>\n",
       "      <td>98.849722</td>\n",
       "    </tr>\n",
       "  </tbody>\n",
       "</table>\n",
       "</div>"
      ],
      "text/plain": [
       "               SPY                                                   \\\n",
       "              open    high       low   close     volume trade_count   \n",
       "2022-12-30  380.64  382.58  378.4300  382.43   83474793      544591   \n",
       "2023-01-03  384.37  386.43  377.8310  380.82   74330774      585048   \n",
       "2023-01-04  383.18  385.88  380.0000  383.76   85425119      628498   \n",
       "2023-01-05  381.72  381.76  378.7600  379.38   76079710      523811   \n",
       "2023-01-06  382.61  389.25  379.4127  388.08  103732642      683384   \n",
       "\n",
       "                          AGG                                               \\\n",
       "                  vwap   open   high      low  close    volume trade_count   \n",
       "2022-12-30  381.220108  97.25  97.36  96.9741  96.99   8460107       29791   \n",
       "2023-01-03  380.961150  97.97  97.97  97.3650  97.56  19923745       50478   \n",
       "2023-01-04  383.151245  98.17  98.25  97.8900  98.10   9792320       28896   \n",
       "2023-01-05  380.264217  97.64  98.06  97.5650  98.02   9675668       25578   \n",
       "2023-01-06  385.248022  98.13  99.15  98.0400  99.09   8484627       28129   \n",
       "\n",
       "                       \n",
       "                 vwap  \n",
       "2022-12-30  97.066805  \n",
       "2023-01-03  97.592200  \n",
       "2023-01-04  98.032508  \n",
       "2023-01-05  97.882382  \n",
       "2023-01-06  98.849722  "
      ]
     },
     "metadata": {},
     "output_type": "display_data"
    }
   ],
   "source": [
    "# Use the Alpaca get_bars function to make the API call to get the 3 years worth of pricing data\n",
    "# The tickers and timeframe parameters should have been set in Part 1 of this activity \n",
    "# The start and end dates should be updated with the information set above\n",
    "# Remember to add the df property to the end of the call so the response is returned as a DataFrame\n",
    "alpaca_response = alpaca.get_bars(tickers, timeframe, start = start_date, end = end_date).df\n",
    "\n",
    "# Reorganize the DataFrame\n",
    "# Separate ticker data\n",
    "spy = alpaca_response[alpaca_response['symbol'] == 'SPY'].drop(['symbol'], axis = 1)\n",
    "agg = alpaca_response[alpaca_response['symbol'] == 'AGG'].drop(['symbol'], axis = 1)\n",
    "# Concatenate the ticker DataFrames\n",
    "prices_df = pd.concat([spy, agg], axis = 1, keys = tickers)\n",
    "prices_df.index = prices_df.index.date\n",
    "# Display both the first and last five rows of the DataFrame\n",
    "display(prices_df.head())\n",
    "display(prices_df.tail())\n"
   ]
  },
  {
   "cell_type": "markdown",
   "metadata": {},
   "source": [
    "#### Step 2: Run a Monte Carlo simulation of 500 samples and 30 years for the 60/40 portfolio, and then plot the results."
   ]
  },
  {
   "cell_type": "code",
   "execution_count": 56,
   "metadata": {},
   "outputs": [
    {
     "data": {
      "text/html": [
       "<div>\n",
       "<style scoped>\n",
       "    .dataframe tbody tr th:only-of-type {\n",
       "        vertical-align: middle;\n",
       "    }\n",
       "\n",
       "    .dataframe tbody tr th {\n",
       "        vertical-align: top;\n",
       "    }\n",
       "\n",
       "    .dataframe thead tr th {\n",
       "        text-align: left;\n",
       "    }\n",
       "</style>\n",
       "<table border=\"1\" class=\"dataframe\">\n",
       "  <thead>\n",
       "    <tr>\n",
       "      <th></th>\n",
       "      <th colspan=\"8\" halign=\"left\">SPY</th>\n",
       "      <th colspan=\"8\" halign=\"left\">AGG</th>\n",
       "    </tr>\n",
       "    <tr>\n",
       "      <th></th>\n",
       "      <th>open</th>\n",
       "      <th>high</th>\n",
       "      <th>low</th>\n",
       "      <th>close</th>\n",
       "      <th>volume</th>\n",
       "      <th>trade_count</th>\n",
       "      <th>vwap</th>\n",
       "      <th>daily_return</th>\n",
       "      <th>open</th>\n",
       "      <th>high</th>\n",
       "      <th>low</th>\n",
       "      <th>close</th>\n",
       "      <th>volume</th>\n",
       "      <th>trade_count</th>\n",
       "      <th>vwap</th>\n",
       "      <th>daily_return</th>\n",
       "    </tr>\n",
       "  </thead>\n",
       "  <tbody>\n",
       "    <tr>\n",
       "      <th>2020-01-06</th>\n",
       "      <td>320.4900</td>\n",
       "      <td>323.73</td>\n",
       "      <td>320.36</td>\n",
       "      <td>323.73</td>\n",
       "      <td>55817168</td>\n",
       "      <td>255767</td>\n",
       "      <td>322.722391</td>\n",
       "      <td>NaN</td>\n",
       "      <td>113.13</td>\n",
       "      <td>113.13</td>\n",
       "      <td>112.840</td>\n",
       "      <td>112.92</td>\n",
       "      <td>8131608</td>\n",
       "      <td>17277</td>\n",
       "      <td>112.949600</td>\n",
       "      <td>NaN</td>\n",
       "    </tr>\n",
       "    <tr>\n",
       "      <th>2020-01-07</th>\n",
       "      <td>323.0200</td>\n",
       "      <td>323.54</td>\n",
       "      <td>322.24</td>\n",
       "      <td>322.74</td>\n",
       "      <td>42874811</td>\n",
       "      <td>226059</td>\n",
       "      <td>322.711069</td>\n",
       "      <td>-0.003058</td>\n",
       "      <td>112.92</td>\n",
       "      <td>112.92</td>\n",
       "      <td>112.780</td>\n",
       "      <td>112.80</td>\n",
       "      <td>2883005</td>\n",
       "      <td>11523</td>\n",
       "      <td>112.834953</td>\n",
       "      <td>-0.001063</td>\n",
       "    </tr>\n",
       "    <tr>\n",
       "      <th>2020-01-08</th>\n",
       "      <td>322.9400</td>\n",
       "      <td>325.78</td>\n",
       "      <td>322.67</td>\n",
       "      <td>324.42</td>\n",
       "      <td>68435753</td>\n",
       "      <td>340004</td>\n",
       "      <td>324.331733</td>\n",
       "      <td>0.005205</td>\n",
       "      <td>112.85</td>\n",
       "      <td>112.94</td>\n",
       "      <td>112.545</td>\n",
       "      <td>112.67</td>\n",
       "      <td>7323117</td>\n",
       "      <td>12854</td>\n",
       "      <td>112.671650</td>\n",
       "      <td>-0.001152</td>\n",
       "    </tr>\n",
       "    <tr>\n",
       "      <th>2020-01-09</th>\n",
       "      <td>326.1600</td>\n",
       "      <td>326.73</td>\n",
       "      <td>325.52</td>\n",
       "      <td>326.59</td>\n",
       "      <td>48582601</td>\n",
       "      <td>242161</td>\n",
       "      <td>326.093557</td>\n",
       "      <td>0.006689</td>\n",
       "      <td>112.49</td>\n",
       "      <td>112.79</td>\n",
       "      <td>112.460</td>\n",
       "      <td>112.79</td>\n",
       "      <td>9110852</td>\n",
       "      <td>13407</td>\n",
       "      <td>112.730232</td>\n",
       "      <td>0.001065</td>\n",
       "    </tr>\n",
       "    <tr>\n",
       "      <th>2020-01-10</th>\n",
       "      <td>327.2899</td>\n",
       "      <td>327.46</td>\n",
       "      <td>325.20</td>\n",
       "      <td>325.64</td>\n",
       "      <td>53057389</td>\n",
       "      <td>236220</td>\n",
       "      <td>326.407649</td>\n",
       "      <td>-0.002909</td>\n",
       "      <td>112.90</td>\n",
       "      <td>112.99</td>\n",
       "      <td>112.820</td>\n",
       "      <td>112.98</td>\n",
       "      <td>4198053</td>\n",
       "      <td>11555</td>\n",
       "      <td>112.924604</td>\n",
       "      <td>0.001685</td>\n",
       "    </tr>\n",
       "  </tbody>\n",
       "</table>\n",
       "</div>"
      ],
      "text/plain": [
       "                 SPY                                                \\\n",
       "                open    high     low   close    volume trade_count   \n",
       "2020-01-06  320.4900  323.73  320.36  323.73  55817168      255767   \n",
       "2020-01-07  323.0200  323.54  322.24  322.74  42874811      226059   \n",
       "2020-01-08  322.9400  325.78  322.67  324.42  68435753      340004   \n",
       "2020-01-09  326.1600  326.73  325.52  326.59  48582601      242161   \n",
       "2020-01-10  327.2899  327.46  325.20  325.64  53057389      236220   \n",
       "\n",
       "                                        AGG                                    \\\n",
       "                  vwap daily_return    open    high      low   close   volume   \n",
       "2020-01-06  322.722391          NaN  113.13  113.13  112.840  112.92  8131608   \n",
       "2020-01-07  322.711069    -0.003058  112.92  112.92  112.780  112.80  2883005   \n",
       "2020-01-08  324.331733     0.005205  112.85  112.94  112.545  112.67  7323117   \n",
       "2020-01-09  326.093557     0.006689  112.49  112.79  112.460  112.79  9110852   \n",
       "2020-01-10  326.407649    -0.002909  112.90  112.99  112.820  112.98  4198053   \n",
       "\n",
       "                                                 \n",
       "           trade_count        vwap daily_return  \n",
       "2020-01-06       17277  112.949600          NaN  \n",
       "2020-01-07       11523  112.834953    -0.001063  \n",
       "2020-01-08       12854  112.671650    -0.001152  \n",
       "2020-01-09       13407  112.730232     0.001065  \n",
       "2020-01-10       11555  112.924604     0.001685  "
      ]
     },
     "execution_count": 56,
     "metadata": {},
     "output_type": "execute_result"
    }
   ],
   "source": [
    "# Configure the Monte Carlo simulation to forecast 30 years cumulative returns\n",
    "# The weights should be split 40% to AGG and 60% to SPY.\n",
    "# Run 500 samples.\n",
    "MC_30year = MCSimulation(\n",
    "    portfolio_data = prices_df,\n",
    "    weights = [.60, .40],\n",
    "    num_simulation=500,\n",
    "    num_trading_days=252*30\n",
    ")\n",
    "\n",
    "# Review the simulation input data\n",
    "MC_30year.portfolio_data.head()\n"
   ]
  },
  {
   "cell_type": "code",
   "execution_count": 57,
   "metadata": {},
   "outputs": [
    {
     "name": "stdout",
     "output_type": "stream",
     "text": [
      "Running Monte Carlo simulation number 0.\n",
      "Running Monte Carlo simulation number 10.\n",
      "Running Monte Carlo simulation number 20.\n",
      "Running Monte Carlo simulation number 30.\n",
      "Running Monte Carlo simulation number 40.\n",
      "Running Monte Carlo simulation number 50.\n",
      "Running Monte Carlo simulation number 60.\n",
      "Running Monte Carlo simulation number 70.\n",
      "Running Monte Carlo simulation number 80.\n",
      "Running Monte Carlo simulation number 90.\n",
      "Running Monte Carlo simulation number 100.\n"
     ]
    },
    {
     "name": "stderr",
     "output_type": "stream",
     "text": [
      "/Users/trentransom/Desktop/fintech_workspace/Challenge_05/MCForecastTools.py:117: PerformanceWarning: DataFrame is highly fragmented.  This is usually the result of calling `frame.insert` many times, which has poor performance.  Consider joining all columns at once using pd.concat(axis=1) instead.  To get a de-fragmented frame, use `newframe = frame.copy()`\n",
      "  portfolio_cumulative_returns[n] = (1 + sim_df.fillna(0)).cumprod()\n"
     ]
    },
    {
     "name": "stdout",
     "output_type": "stream",
     "text": [
      "Running Monte Carlo simulation number 110.\n",
      "Running Monte Carlo simulation number 120.\n",
      "Running Monte Carlo simulation number 130.\n",
      "Running Monte Carlo simulation number 140.\n",
      "Running Monte Carlo simulation number 150.\n",
      "Running Monte Carlo simulation number 160.\n",
      "Running Monte Carlo simulation number 170.\n",
      "Running Monte Carlo simulation number 180.\n",
      "Running Monte Carlo simulation number 190.\n",
      "Running Monte Carlo simulation number 200.\n",
      "Running Monte Carlo simulation number 210.\n",
      "Running Monte Carlo simulation number 220.\n",
      "Running Monte Carlo simulation number 230.\n",
      "Running Monte Carlo simulation number 240.\n",
      "Running Monte Carlo simulation number 250.\n",
      "Running Monte Carlo simulation number 260.\n",
      "Running Monte Carlo simulation number 270.\n",
      "Running Monte Carlo simulation number 280.\n",
      "Running Monte Carlo simulation number 290.\n",
      "Running Monte Carlo simulation number 300.\n",
      "Running Monte Carlo simulation number 310.\n",
      "Running Monte Carlo simulation number 320.\n",
      "Running Monte Carlo simulation number 330.\n",
      "Running Monte Carlo simulation number 340.\n",
      "Running Monte Carlo simulation number 350.\n",
      "Running Monte Carlo simulation number 360.\n",
      "Running Monte Carlo simulation number 370.\n",
      "Running Monte Carlo simulation number 380.\n",
      "Running Monte Carlo simulation number 390.\n",
      "Running Monte Carlo simulation number 400.\n",
      "Running Monte Carlo simulation number 410.\n",
      "Running Monte Carlo simulation number 420.\n",
      "Running Monte Carlo simulation number 430.\n",
      "Running Monte Carlo simulation number 440.\n",
      "Running Monte Carlo simulation number 450.\n",
      "Running Monte Carlo simulation number 460.\n",
      "Running Monte Carlo simulation number 470.\n",
      "Running Monte Carlo simulation number 480.\n",
      "Running Monte Carlo simulation number 490.\n"
     ]
    },
    {
     "data": {
      "text/html": [
       "<div>\n",
       "<style scoped>\n",
       "    .dataframe tbody tr th:only-of-type {\n",
       "        vertical-align: middle;\n",
       "    }\n",
       "\n",
       "    .dataframe tbody tr th {\n",
       "        vertical-align: top;\n",
       "    }\n",
       "\n",
       "    .dataframe thead th {\n",
       "        text-align: right;\n",
       "    }\n",
       "</style>\n",
       "<table border=\"1\" class=\"dataframe\">\n",
       "  <thead>\n",
       "    <tr style=\"text-align: right;\">\n",
       "      <th></th>\n",
       "      <th>0</th>\n",
       "      <th>1</th>\n",
       "      <th>2</th>\n",
       "      <th>3</th>\n",
       "      <th>4</th>\n",
       "      <th>5</th>\n",
       "      <th>6</th>\n",
       "      <th>7</th>\n",
       "      <th>8</th>\n",
       "      <th>9</th>\n",
       "      <th>...</th>\n",
       "      <th>490</th>\n",
       "      <th>491</th>\n",
       "      <th>492</th>\n",
       "      <th>493</th>\n",
       "      <th>494</th>\n",
       "      <th>495</th>\n",
       "      <th>496</th>\n",
       "      <th>497</th>\n",
       "      <th>498</th>\n",
       "      <th>499</th>\n",
       "    </tr>\n",
       "  </thead>\n",
       "  <tbody>\n",
       "    <tr>\n",
       "      <th>0</th>\n",
       "      <td>1.000000</td>\n",
       "      <td>1.000000</td>\n",
       "      <td>1.000000</td>\n",
       "      <td>1.000000</td>\n",
       "      <td>1.000000</td>\n",
       "      <td>1.000000</td>\n",
       "      <td>1.000000</td>\n",
       "      <td>1.000000</td>\n",
       "      <td>1.000000</td>\n",
       "      <td>1.000000</td>\n",
       "      <td>...</td>\n",
       "      <td>1.000000</td>\n",
       "      <td>1.000000</td>\n",
       "      <td>1.000000</td>\n",
       "      <td>1.000000</td>\n",
       "      <td>1.000000</td>\n",
       "      <td>1.000000</td>\n",
       "      <td>1.000000</td>\n",
       "      <td>1.000000</td>\n",
       "      <td>1.000000</td>\n",
       "      <td>1.000000</td>\n",
       "    </tr>\n",
       "    <tr>\n",
       "      <th>1</th>\n",
       "      <td>0.997967</td>\n",
       "      <td>0.996317</td>\n",
       "      <td>0.979327</td>\n",
       "      <td>0.997730</td>\n",
       "      <td>1.002764</td>\n",
       "      <td>1.005234</td>\n",
       "      <td>0.993090</td>\n",
       "      <td>1.006006</td>\n",
       "      <td>0.993060</td>\n",
       "      <td>0.971175</td>\n",
       "      <td>...</td>\n",
       "      <td>1.014134</td>\n",
       "      <td>1.024613</td>\n",
       "      <td>0.988872</td>\n",
       "      <td>1.011377</td>\n",
       "      <td>0.983535</td>\n",
       "      <td>1.007009</td>\n",
       "      <td>0.996040</td>\n",
       "      <td>0.991376</td>\n",
       "      <td>1.001741</td>\n",
       "      <td>0.989936</td>\n",
       "    </tr>\n",
       "    <tr>\n",
       "      <th>2</th>\n",
       "      <td>0.994773</td>\n",
       "      <td>0.988272</td>\n",
       "      <td>0.980018</td>\n",
       "      <td>0.982825</td>\n",
       "      <td>1.007077</td>\n",
       "      <td>0.992735</td>\n",
       "      <td>0.992998</td>\n",
       "      <td>1.018948</td>\n",
       "      <td>0.991753</td>\n",
       "      <td>0.965678</td>\n",
       "      <td>...</td>\n",
       "      <td>1.020983</td>\n",
       "      <td>1.028957</td>\n",
       "      <td>0.975887</td>\n",
       "      <td>1.023877</td>\n",
       "      <td>0.989894</td>\n",
       "      <td>1.018132</td>\n",
       "      <td>0.997037</td>\n",
       "      <td>0.996939</td>\n",
       "      <td>1.003151</td>\n",
       "      <td>0.978647</td>\n",
       "    </tr>\n",
       "    <tr>\n",
       "      <th>3</th>\n",
       "      <td>0.987734</td>\n",
       "      <td>0.986086</td>\n",
       "      <td>0.958656</td>\n",
       "      <td>0.974539</td>\n",
       "      <td>0.993219</td>\n",
       "      <td>0.991539</td>\n",
       "      <td>0.980534</td>\n",
       "      <td>1.023296</td>\n",
       "      <td>0.978611</td>\n",
       "      <td>0.970996</td>\n",
       "      <td>...</td>\n",
       "      <td>1.000936</td>\n",
       "      <td>1.024252</td>\n",
       "      <td>0.969572</td>\n",
       "      <td>1.013551</td>\n",
       "      <td>0.991214</td>\n",
       "      <td>1.012806</td>\n",
       "      <td>0.991910</td>\n",
       "      <td>0.994569</td>\n",
       "      <td>0.998432</td>\n",
       "      <td>0.969047</td>\n",
       "    </tr>\n",
       "    <tr>\n",
       "      <th>4</th>\n",
       "      <td>1.005339</td>\n",
       "      <td>0.993330</td>\n",
       "      <td>0.955112</td>\n",
       "      <td>0.970031</td>\n",
       "      <td>0.996976</td>\n",
       "      <td>1.002480</td>\n",
       "      <td>0.958027</td>\n",
       "      <td>1.034281</td>\n",
       "      <td>0.972095</td>\n",
       "      <td>0.989062</td>\n",
       "      <td>...</td>\n",
       "      <td>1.003272</td>\n",
       "      <td>1.022487</td>\n",
       "      <td>0.974759</td>\n",
       "      <td>1.008778</td>\n",
       "      <td>0.972517</td>\n",
       "      <td>1.015231</td>\n",
       "      <td>0.981667</td>\n",
       "      <td>0.998030</td>\n",
       "      <td>0.986409</td>\n",
       "      <td>0.969509</td>\n",
       "    </tr>\n",
       "    <tr>\n",
       "      <th>...</th>\n",
       "      <td>...</td>\n",
       "      <td>...</td>\n",
       "      <td>...</td>\n",
       "      <td>...</td>\n",
       "      <td>...</td>\n",
       "      <td>...</td>\n",
       "      <td>...</td>\n",
       "      <td>...</td>\n",
       "      <td>...</td>\n",
       "      <td>...</td>\n",
       "      <td>...</td>\n",
       "      <td>...</td>\n",
       "      <td>...</td>\n",
       "      <td>...</td>\n",
       "      <td>...</td>\n",
       "      <td>...</td>\n",
       "      <td>...</td>\n",
       "      <td>...</td>\n",
       "      <td>...</td>\n",
       "      <td>...</td>\n",
       "      <td>...</td>\n",
       "    </tr>\n",
       "    <tr>\n",
       "      <th>7556</th>\n",
       "      <td>10.711364</td>\n",
       "      <td>3.957432</td>\n",
       "      <td>3.757541</td>\n",
       "      <td>5.923536</td>\n",
       "      <td>5.003003</td>\n",
       "      <td>1.457268</td>\n",
       "      <td>3.099884</td>\n",
       "      <td>0.832661</td>\n",
       "      <td>1.365582</td>\n",
       "      <td>0.497267</td>\n",
       "      <td>...</td>\n",
       "      <td>3.156161</td>\n",
       "      <td>1.024213</td>\n",
       "      <td>0.618884</td>\n",
       "      <td>0.647451</td>\n",
       "      <td>1.349290</td>\n",
       "      <td>4.647656</td>\n",
       "      <td>0.940046</td>\n",
       "      <td>7.978125</td>\n",
       "      <td>4.106740</td>\n",
       "      <td>5.921160</td>\n",
       "    </tr>\n",
       "    <tr>\n",
       "      <th>7557</th>\n",
       "      <td>10.783934</td>\n",
       "      <td>3.972606</td>\n",
       "      <td>3.819591</td>\n",
       "      <td>5.872485</td>\n",
       "      <td>5.014353</td>\n",
       "      <td>1.457169</td>\n",
       "      <td>3.090032</td>\n",
       "      <td>0.840608</td>\n",
       "      <td>1.362104</td>\n",
       "      <td>0.509403</td>\n",
       "      <td>...</td>\n",
       "      <td>3.211953</td>\n",
       "      <td>1.029199</td>\n",
       "      <td>0.623273</td>\n",
       "      <td>0.649340</td>\n",
       "      <td>1.340902</td>\n",
       "      <td>4.649613</td>\n",
       "      <td>0.947155</td>\n",
       "      <td>8.039678</td>\n",
       "      <td>4.074768</td>\n",
       "      <td>5.834212</td>\n",
       "    </tr>\n",
       "    <tr>\n",
       "      <th>7558</th>\n",
       "      <td>10.889252</td>\n",
       "      <td>3.911181</td>\n",
       "      <td>3.822346</td>\n",
       "      <td>5.808993</td>\n",
       "      <td>5.075612</td>\n",
       "      <td>1.461942</td>\n",
       "      <td>3.136641</td>\n",
       "      <td>0.835846</td>\n",
       "      <td>1.377818</td>\n",
       "      <td>0.513070</td>\n",
       "      <td>...</td>\n",
       "      <td>3.245074</td>\n",
       "      <td>1.035670</td>\n",
       "      <td>0.613881</td>\n",
       "      <td>0.654559</td>\n",
       "      <td>1.338014</td>\n",
       "      <td>4.683885</td>\n",
       "      <td>0.954559</td>\n",
       "      <td>8.124397</td>\n",
       "      <td>4.106975</td>\n",
       "      <td>5.801190</td>\n",
       "    </tr>\n",
       "    <tr>\n",
       "      <th>7559</th>\n",
       "      <td>10.861344</td>\n",
       "      <td>3.949218</td>\n",
       "      <td>3.848035</td>\n",
       "      <td>5.818784</td>\n",
       "      <td>5.038250</td>\n",
       "      <td>1.458436</td>\n",
       "      <td>3.134318</td>\n",
       "      <td>0.837204</td>\n",
       "      <td>1.394802</td>\n",
       "      <td>0.514703</td>\n",
       "      <td>...</td>\n",
       "      <td>3.271271</td>\n",
       "      <td>1.056060</td>\n",
       "      <td>0.610772</td>\n",
       "      <td>0.656266</td>\n",
       "      <td>1.329778</td>\n",
       "      <td>4.639902</td>\n",
       "      <td>0.958919</td>\n",
       "      <td>7.958318</td>\n",
       "      <td>4.127254</td>\n",
       "      <td>5.808346</td>\n",
       "    </tr>\n",
       "    <tr>\n",
       "      <th>7560</th>\n",
       "      <td>10.935776</td>\n",
       "      <td>3.880937</td>\n",
       "      <td>3.869497</td>\n",
       "      <td>5.884484</td>\n",
       "      <td>4.982904</td>\n",
       "      <td>1.439142</td>\n",
       "      <td>3.135330</td>\n",
       "      <td>0.846394</td>\n",
       "      <td>1.408420</td>\n",
       "      <td>0.520114</td>\n",
       "      <td>...</td>\n",
       "      <td>3.290166</td>\n",
       "      <td>1.051703</td>\n",
       "      <td>0.610800</td>\n",
       "      <td>0.667449</td>\n",
       "      <td>1.337702</td>\n",
       "      <td>4.627816</td>\n",
       "      <td>0.956852</td>\n",
       "      <td>8.064353</td>\n",
       "      <td>4.181753</td>\n",
       "      <td>5.812527</td>\n",
       "    </tr>\n",
       "  </tbody>\n",
       "</table>\n",
       "<p>7561 rows × 500 columns</p>\n",
       "</div>"
      ],
      "text/plain": [
       "            0         1         2         3         4         5         6    \\\n",
       "0      1.000000  1.000000  1.000000  1.000000  1.000000  1.000000  1.000000   \n",
       "1      0.997967  0.996317  0.979327  0.997730  1.002764  1.005234  0.993090   \n",
       "2      0.994773  0.988272  0.980018  0.982825  1.007077  0.992735  0.992998   \n",
       "3      0.987734  0.986086  0.958656  0.974539  0.993219  0.991539  0.980534   \n",
       "4      1.005339  0.993330  0.955112  0.970031  0.996976  1.002480  0.958027   \n",
       "...         ...       ...       ...       ...       ...       ...       ...   \n",
       "7556  10.711364  3.957432  3.757541  5.923536  5.003003  1.457268  3.099884   \n",
       "7557  10.783934  3.972606  3.819591  5.872485  5.014353  1.457169  3.090032   \n",
       "7558  10.889252  3.911181  3.822346  5.808993  5.075612  1.461942  3.136641   \n",
       "7559  10.861344  3.949218  3.848035  5.818784  5.038250  1.458436  3.134318   \n",
       "7560  10.935776  3.880937  3.869497  5.884484  4.982904  1.439142  3.135330   \n",
       "\n",
       "           7         8         9    ...       490       491       492  \\\n",
       "0     1.000000  1.000000  1.000000  ...  1.000000  1.000000  1.000000   \n",
       "1     1.006006  0.993060  0.971175  ...  1.014134  1.024613  0.988872   \n",
       "2     1.018948  0.991753  0.965678  ...  1.020983  1.028957  0.975887   \n",
       "3     1.023296  0.978611  0.970996  ...  1.000936  1.024252  0.969572   \n",
       "4     1.034281  0.972095  0.989062  ...  1.003272  1.022487  0.974759   \n",
       "...        ...       ...       ...  ...       ...       ...       ...   \n",
       "7556  0.832661  1.365582  0.497267  ...  3.156161  1.024213  0.618884   \n",
       "7557  0.840608  1.362104  0.509403  ...  3.211953  1.029199  0.623273   \n",
       "7558  0.835846  1.377818  0.513070  ...  3.245074  1.035670  0.613881   \n",
       "7559  0.837204  1.394802  0.514703  ...  3.271271  1.056060  0.610772   \n",
       "7560  0.846394  1.408420  0.520114  ...  3.290166  1.051703  0.610800   \n",
       "\n",
       "           493       494       495       496       497       498       499  \n",
       "0     1.000000  1.000000  1.000000  1.000000  1.000000  1.000000  1.000000  \n",
       "1     1.011377  0.983535  1.007009  0.996040  0.991376  1.001741  0.989936  \n",
       "2     1.023877  0.989894  1.018132  0.997037  0.996939  1.003151  0.978647  \n",
       "3     1.013551  0.991214  1.012806  0.991910  0.994569  0.998432  0.969047  \n",
       "4     1.008778  0.972517  1.015231  0.981667  0.998030  0.986409  0.969509  \n",
       "...        ...       ...       ...       ...       ...       ...       ...  \n",
       "7556  0.647451  1.349290  4.647656  0.940046  7.978125  4.106740  5.921160  \n",
       "7557  0.649340  1.340902  4.649613  0.947155  8.039678  4.074768  5.834212  \n",
       "7558  0.654559  1.338014  4.683885  0.954559  8.124397  4.106975  5.801190  \n",
       "7559  0.656266  1.329778  4.639902  0.958919  7.958318  4.127254  5.808346  \n",
       "7560  0.667449  1.337702  4.627816  0.956852  8.064353  4.181753  5.812527  \n",
       "\n",
       "[7561 rows x 500 columns]"
      ]
     },
     "execution_count": 57,
     "metadata": {},
     "output_type": "execute_result"
    }
   ],
   "source": [
    "# Run the Monte Carlo simulation to forecast 30 years cumulative returns\n",
    "MC_30year.calc_cumulative_return()\n"
   ]
  },
  {
   "cell_type": "code",
   "execution_count": 32,
   "metadata": {},
   "outputs": [],
   "source": [
    "# Visualize the 30-year Monte Carlo simulation by creating an\n",
    "# overlay line plot\n",
    "\n"
   ]
  },
  {
   "cell_type": "markdown",
   "metadata": {},
   "source": [
    "#### Step 3: Plot the probability distribution of the Monte Carlo simulation."
   ]
  },
  {
   "cell_type": "code",
   "execution_count": 33,
   "metadata": {},
   "outputs": [],
   "source": [
    "# Visualize the probability distribution of the 30-year Monte Carlo simulation \n",
    "# by plotting a histogram\n",
    "# YOUR CODE HERE\n"
   ]
  },
  {
   "cell_type": "markdown",
   "metadata": {},
   "source": [
    "#### Step 4: Generate the summary statistics for the Monte Carlo simulation."
   ]
  },
  {
   "cell_type": "code",
   "execution_count": 34,
   "metadata": {},
   "outputs": [],
   "source": [
    "# Generate summary statistics from the 30-year Monte Carlo simulation results\n",
    "# Save the results as a variable\n",
    "# YOUR CODE HERE\n",
    "\n",
    "\n",
    "# Review the 30-year Monte Carlo summary statistics\n",
    "# YOUR CODE HERE"
   ]
  },
  {
   "cell_type": "markdown",
   "metadata": {},
   "source": [
    "### Analyze the Retirement Portfolio Forecasts\n",
    "\n",
    "Using the current value of only the stock and bond portion of the member's portfolio and the summary statistics that you generated from the Monte Carlo simulation, answer the following question in your Jupyter notebook:\n",
    "\n",
    "-  What are the lower and upper bounds for the expected value of the portfolio with a 95% confidence interval?\n"
   ]
  },
  {
   "cell_type": "code",
   "execution_count": 35,
   "metadata": {},
   "outputs": [],
   "source": [
    "# Print the current balance of the stock and bond portion of the members portfolio\n",
    "# YOUR CODE HERE\n"
   ]
  },
  {
   "cell_type": "code",
   "execution_count": 36,
   "metadata": {},
   "outputs": [
    {
     "ename": "SyntaxError",
     "evalue": "invalid syntax (2789942235.py, line 2)",
     "output_type": "error",
     "traceback": [
      "\u001b[0;36m  File \u001b[0;32m\"/var/folders/p0/wl_b2wy96qg125fgyfyj7wz40000gn/T/ipykernel_20818/2789942235.py\"\u001b[0;36m, line \u001b[0;32m2\u001b[0m\n\u001b[0;31m    ci_lower_thirty_cumulative_return = # YOUR CODE HERE\u001b[0m\n\u001b[0m                                                        ^\u001b[0m\n\u001b[0;31mSyntaxError\u001b[0m\u001b[0;31m:\u001b[0m invalid syntax\n"
     ]
    }
   ],
   "source": [
    "# Use the lower and upper `95%` confidence intervals to calculate the range of the possible outcomes for the current stock/bond portfolio\n",
    "ci_lower_thirty_cumulative_return = # YOUR CODE HERE\n",
    "ci_upper_thirty_cumulative_return = # YOUR CODE HERE\n",
    "\n",
    "# Print the result of your calculations\n",
    "# YOUR CODE HERE\n"
   ]
  },
  {
   "cell_type": "markdown",
   "metadata": {},
   "source": [
    "### Forecast Cumulative Returns in 10 Years\n",
    "\n",
    "The CTO of the credit union is impressed with your work on these planning tools but wonders if 30 years is a long time to wait until retirement. So, your next task is to adjust the retirement portfolio and run a new Monte Carlo simulation to find out if the changes will allow members to retire earlier.\n",
    "\n",
    "For this new Monte Carlo simulation, do the following: \n",
    "\n",
    "- Forecast the cumulative returns for 10 years from now. Because of the shortened investment horizon (30 years to 10 years), the portfolio needs to invest more heavily in the riskier asset&mdash;that is, stock&mdash;to help accumulate wealth for retirement. \n",
    "\n",
    "- Adjust the weights of the retirement portfolio so that the composition for the Monte Carlo simulation consists of 20% bonds and 80% stocks. \n",
    "\n",
    "- Run the simulation over 500 samples, and use the same data that the API call to Alpaca generated.\n",
    "\n",
    "- Based on the new Monte Carlo simulation, answer the following questions in your Jupyter notebook:\n",
    "\n",
    "    - Using the current value of only the stock and bond portion of the member's portfolio and the summary statistics that you generated from the new Monte Carlo simulation, what are the lower and upper bounds for the expected value of the portfolio (with the new weights) with a 95% confidence interval?\n",
    "\n",
    "    - Will weighting the portfolio more heavily toward stocks allow the credit union members to retire after only 10 years?\n"
   ]
  },
  {
   "cell_type": "code",
   "execution_count": null,
   "metadata": {},
   "outputs": [],
   "source": [
    "# Configure a Monte Carlo simulation to forecast 10 years cumulative returns\n",
    "# The weights should be split 20% to AGG and 80% to SPY.\n",
    "# Run 500 samples.\n",
    "# YOUR CODE HERE\n",
    "\n",
    "# Review the simulation input data\n",
    "# YOUR CODE HERE\n"
   ]
  },
  {
   "cell_type": "code",
   "execution_count": null,
   "metadata": {},
   "outputs": [],
   "source": [
    "# Run the Monte Carlo simulation to forecast 10 years cumulative returns\n",
    "# YOUR CODE HERE\n"
   ]
  },
  {
   "cell_type": "code",
   "execution_count": null,
   "metadata": {},
   "outputs": [],
   "source": [
    "# Visualize the 10-year Monte Carlo simulation by creating an\n",
    "# overlay line plot\n",
    "# YOUR CODE HERE\n"
   ]
  },
  {
   "cell_type": "code",
   "execution_count": null,
   "metadata": {},
   "outputs": [],
   "source": [
    "# Visualize the probability distribution of the 10-year Monte Carlo simulation \n",
    "# by plotting a histogram\n",
    "# YOUR CODE HERE\n"
   ]
  },
  {
   "cell_type": "code",
   "execution_count": null,
   "metadata": {},
   "outputs": [],
   "source": [
    "# Generate summary statistics from the 10-year Monte Carlo simulation results\n",
    "# Save the results as a variable\n",
    "# YOUR CODE HERE\n",
    "\n",
    "\n",
    "# Review the 10-year Monte Carlo summary statistics\n",
    "# YOUR CODE HERE"
   ]
  },
  {
   "cell_type": "markdown",
   "metadata": {},
   "source": [
    "### Answer the following questions:"
   ]
  },
  {
   "cell_type": "markdown",
   "metadata": {},
   "source": [
    "#### Question: Using the current value of only the stock and bond portion of the member's portfolio and the summary statistics that you generated from the new Monte Carlo simulation, what are the lower and upper bounds for the expected value of the portfolio (with the new weights) with a 95% confidence interval?"
   ]
  },
  {
   "cell_type": "code",
   "execution_count": null,
   "metadata": {},
   "outputs": [],
   "source": [
    "# Print the current balance of the stock and bond portion of the members portfolio\n",
    "# YOUR CODE HERE\n"
   ]
  },
  {
   "cell_type": "code",
   "execution_count": null,
   "metadata": {},
   "outputs": [],
   "source": [
    "# Use the lower and upper `95%` confidence intervals to calculate the range of the possible outcomes for the current stock/bond portfolio\n",
    "ci_lower_ten_cumulative_return = # YOUR CODE HERE\n",
    "ci_upper_ten_cumulative_return = # YOUR CODE HERE\n",
    "\n",
    "# Print the result of your calculations\n",
    "# YOUR CODE HERE\n"
   ]
  },
  {
   "cell_type": "markdown",
   "metadata": {},
   "source": [
    "#### Question: Will weighting the portfolio more heavily to stocks allow the credit union members to retire after only 10 years?"
   ]
  },
  {
   "cell_type": "raw",
   "metadata": {},
   "source": [
    "**Answer** # YOUR ANSWER HERE"
   ]
  },
  {
   "cell_type": "code",
   "execution_count": null,
   "metadata": {},
   "outputs": [],
   "source": []
  }
 ],
 "metadata": {
  "kernelspec": {
   "display_name": "dev",
   "language": "python",
   "name": "python3"
  },
  "language_info": {
   "codemirror_mode": {
    "name": "ipython",
    "version": 3
   },
   "file_extension": ".py",
   "mimetype": "text/x-python",
   "name": "python",
   "nbconvert_exporter": "python",
   "pygments_lexer": "ipython3",
   "version": "3.7.13"
  },
  "vscode": {
   "interpreter": {
    "hash": "d8a4170bf1e4113da853ff84ae1231400025e948508316af39318cc3c6d64f55"
   }
  }
 },
 "nbformat": 4,
 "nbformat_minor": 4
}
